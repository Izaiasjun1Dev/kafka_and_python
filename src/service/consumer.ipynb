{
 "cells": [
  {
   "cell_type": "code",
   "execution_count": 2,
   "source": [
    "import json\n",
    "from kafka import KafkaConsumer\n",
    "from wordcloud import WordCloud\n",
    "import matplotlib.pyplot as plt\n",
    "from IPython.display import clear_output"
   ],
   "outputs": [],
   "metadata": {}
  },
  {
   "cell_type": "code",
   "execution_count": 3,
   "source": [
    "\n",
    "broker = ['localhost:9092']\n",
    "topic = 'scraping-twitter'\n",
    "consumer = KafkaConsumer(\n",
    "    topic,\n",
    "    group_id='group1',\n",
    "    bootstrap_servers = broker\n",
    ")\n",
    "\n",
    "frase = ''\n",
    "list_twitter = []\n",
    "\n",
    "for message in consumer:\n",
    "    texto = json.loads(message.value.decode('utf-8'))\n",
    "    frases = frase + texto['tweet']\n",
    "    list_twitter.append(frases)\n",
    "    \n"
   ],
   "outputs": [],
   "metadata": {}
  },
  {
   "cell_type": "code",
   "execution_count": null,
   "source": [
    "list_twitter"
   ],
   "outputs": [],
   "metadata": {}
  },
  {
   "cell_type": "code",
   "execution_count": null,
   "source": [],
   "outputs": [],
   "metadata": {}
  }
 ],
 "metadata": {
  "orig_nbformat": 4,
  "language_info": {
   "name": "python",
   "version": "3.8.5",
   "mimetype": "text/x-python",
   "codemirror_mode": {
    "name": "ipython",
    "version": 3
   },
   "pygments_lexer": "ipython3",
   "nbconvert_exporter": "python",
   "file_extension": ".py"
  },
  "kernelspec": {
   "name": "python3",
   "display_name": "Python 3.8.5 64-bit ('venv': venv)"
  },
  "interpreter": {
   "hash": "37ac8f02d7dc3c1c42fa2641bd5e2f3acd4dba127199a679eb044144942e4940"
  }
 },
 "nbformat": 4,
 "nbformat_minor": 2
}